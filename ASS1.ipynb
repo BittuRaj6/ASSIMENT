{
 "cells": [
  {
   "cell_type": "code",
   "execution_count": 1,
   "id": "1efe451e-4a15-4c3b-b8c6-16ba3db415d8",
   "metadata": {},
   "outputs": [],
   "source": [
    "## (1) guido van rossum"
   ]
  },
  {
   "cell_type": "code",
   "execution_count": 2,
   "id": "e43bb6a9-ed2f-4f09-8a90-6e6f543ba5ed",
   "metadata": {},
   "outputs": [],
   "source": [
    "## (2) object- oriented programming and structured programming"
   ]
  },
  {
   "cell_type": "code",
   "execution_count": 3,
   "id": "f7ff58ab-2298-4072-819e-9ae75ab81f9c",
   "metadata": {},
   "outputs": [],
   "source": [
    "## (3 ) yes , python is case sensitive language "
   ]
  },
  {
   "cell_type": "code",
   "execution_count": 4,
   "id": "3e883f79-22d4-45fb-81df-1844cbfc644f",
   "metadata": {},
   "outputs": [],
   "source": [
    "## (4) .py"
   ]
  },
  {
   "cell_type": "code",
   "execution_count": 5,
   "id": "a0ecc807-859a-4f7d-a174-836a948980f5",
   "metadata": {},
   "outputs": [],
   "source": [
    "## (5) interpreted language"
   ]
  },
  {
   "cell_type": "code",
   "execution_count": 6,
   "id": "14e3d73a-9adb-49b2-9c94-517f157587ef",
   "metadata": {},
   "outputs": [],
   "source": [
    " ##(6) function body and class definition "
   ]
  },
  {
   "cell_type": "code",
   "execution_count": 7,
   "id": "407f67d3-38b8-4820-bd9e-05c8da9478be",
   "metadata": {},
   "outputs": [],
   "source": [
    "##(7)  single # character "
   ]
  },
  {
   "cell_type": "code",
   "execution_count": 8,
   "id": "d45ed220-08eb-44f3-9553-8ceaae6be12a",
   "metadata": {},
   "outputs": [],
   "source": [
    "##(8)  using python_version () function"
   ]
  },
  {
   "cell_type": "code",
   "execution_count": 10,
   "id": "068babbd-afef-495c-bb4c-480a216e1b6c",
   "metadata": {},
   "outputs": [],
   "source": [
    "## (9) lambda"
   ]
  },
  {
   "cell_type": "code",
   "execution_count": 11,
   "id": "778c4123-1709-4d98-b5e8-f383526a1bde",
   "metadata": {},
   "outputs": [],
   "source": [
    "##(10) preferred installer program "
   ]
  },
  {
   "cell_type": "code",
   "execution_count": 12,
   "id": "5c3e6432-6d36-4a17-bf51-ef007471f312",
   "metadata": {},
   "outputs": [],
   "source": [
    "##(11) print() function  ,   type() function . max()function"
   ]
  },
  {
   "cell_type": "code",
   "execution_count": 14,
   "id": "dcb739ec-7439-4eb6-a54b-56d763703e40",
   "metadata": {},
   "outputs": [],
   "source": [
    "##(12) 79 characters"
   ]
  },
  {
   "cell_type": "code",
   "execution_count": 16,
   "id": "ee03c502-77a6-4f83-9da0-301c84f165a8",
   "metadata": {},
   "outputs": [],
   "source": [
    "## (13)  data science , web developement , computer graphics"
   ]
  },
  {
   "cell_type": "code",
   "execution_count": 17,
   "id": "a34fb58e-ba2d-4c29-8d9d-d3d068e34399",
   "metadata": {},
   "outputs": [],
   "source": [
    "##(14)   menory management in python involves a private heap containing all python object and data structures "
   ]
  },
  {
   "cell_type": "code",
   "execution_count": 18,
   "id": "acea0c29-b6c2-4641-966b-cf03b68cbe44",
   "metadata": {},
   "outputs": [],
   "source": [
    "##(15)"
   ]
  },
  {
   "cell_type": "code",
   "execution_count": null,
   "id": "2ba42f46-b95c-4467-acc7-050c788a858a",
   "metadata": {},
   "outputs": [],
   "source": [
    "##(16) yes , indention is mandatory in python to define the block of statements"
   ]
  }
 ],
 "metadata": {
  "kernelspec": {
   "display_name": "Python 3 (ipykernel)",
   "language": "python",
   "name": "python3"
  },
  "language_info": {
   "codemirror_mode": {
    "name": "ipython",
    "version": 3
   },
   "file_extension": ".py",
   "mimetype": "text/x-python",
   "name": "python",
   "nbconvert_exporter": "python",
   "pygments_lexer": "ipython3",
   "version": "3.10.8"
  }
 },
 "nbformat": 4,
 "nbformat_minor": 5
}
